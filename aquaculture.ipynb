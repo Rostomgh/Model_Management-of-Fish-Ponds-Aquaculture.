{
 "cells": [
  {
   "cell_type": "code",
   "execution_count": 1,
   "id": "397a4ad1",
   "metadata": {
    "_cell_guid": "b1076dfc-b9ad-4769-8c92-a6c4dae69d19",
    "_uuid": "8f2839f25d086af736a60e9eeb907d3b93b6e0e5",
    "execution": {
     "iopub.execute_input": "2025-07-18T07:16:58.114254Z",
     "iopub.status.busy": "2025-07-18T07:16:58.113933Z",
     "iopub.status.idle": "2025-07-18T07:17:02.385509Z",
     "shell.execute_reply": "2025-07-18T07:17:02.384425Z"
    },
    "papermill": {
     "duration": 4.279503,
     "end_time": "2025-07-18T07:17:02.387433",
     "exception": false,
     "start_time": "2025-07-18T07:16:58.107930",
     "status": "completed"
    },
    "tags": []
   },
   "outputs": [],
   "source": [
    "import pandas as pd\n",
    "import numpy as np\n",
    "from sklearn.model_selection import train_test_split\n",
    "from sklearn.ensemble import RandomForestClassifier\n",
    "from sklearn.multioutput import MultiOutputClassifier\n",
    "from sklearn.preprocessing import LabelEncoder\n",
    "from sklearn.metrics import accuracy_score, classification_report\n",
    "\n",
    "import pickle"
   ]
  },
  {
   "cell_type": "code",
   "execution_count": 2,
   "id": "4a787824",
   "metadata": {
    "execution": {
     "iopub.execute_input": "2025-07-18T07:17:02.396946Z",
     "iopub.status.busy": "2025-07-18T07:17:02.396459Z",
     "iopub.status.idle": "2025-07-18T07:17:02.427399Z",
     "shell.execute_reply": "2025-07-18T07:17:02.426402Z"
    },
    "papermill": {
     "duration": 0.037628,
     "end_time": "2025-07-18T07:17:02.429326",
     "exception": false,
     "start_time": "2025-07-18T07:17:02.391698",
     "status": "completed"
    },
    "tags": []
   },
   "outputs": [],
   "source": [
    "df = pd.read_csv('/kaggle/input/water-quality-data/waterquality.csv')\n"
   ]
  },
  {
   "cell_type": "code",
   "execution_count": 3,
   "id": "39532079",
   "metadata": {
    "execution": {
     "iopub.execute_input": "2025-07-18T07:17:02.439041Z",
     "iopub.status.busy": "2025-07-18T07:17:02.438163Z",
     "iopub.status.idle": "2025-07-18T07:17:02.451557Z",
     "shell.execute_reply": "2025-07-18T07:17:02.450556Z"
    },
    "papermill": {
     "duration": 0.01966,
     "end_time": "2025-07-18T07:17:02.453088",
     "exception": false,
     "start_time": "2025-07-18T07:17:02.433428",
     "status": "completed"
    },
    "tags": []
   },
   "outputs": [
    {
     "data": {
      "text/plain": [
       "Date                        5\n",
       "Salinity (ppt)            130\n",
       "DissolvedOxygen (mg/L)    851\n",
       "pH                         95\n",
       "SecchiDepth (m)            73\n",
       "WaterDepth (m)             71\n",
       "WaterTemp (C)             121\n",
       "AirTemp (C)                 0\n",
       "dtype: int64"
      ]
     },
     "execution_count": 3,
     "metadata": {},
     "output_type": "execute_result"
    }
   ],
   "source": [
    "df.isna().sum()"
   ]
  },
  {
   "cell_type": "code",
   "execution_count": 4,
   "id": "9bbebdfd",
   "metadata": {
    "execution": {
     "iopub.execute_input": "2025-07-18T07:17:02.462101Z",
     "iopub.status.busy": "2025-07-18T07:17:02.461753Z",
     "iopub.status.idle": "2025-07-18T07:17:02.496532Z",
     "shell.execute_reply": "2025-07-18T07:17:02.495407Z"
    },
    "papermill": {
     "duration": 0.041322,
     "end_time": "2025-07-18T07:17:02.498349",
     "exception": false,
     "start_time": "2025-07-18T07:17:02.457027",
     "status": "completed"
    },
    "tags": []
   },
   "outputs": [
    {
     "name": "stdout",
     "output_type": "stream",
     "text": [
      "<class 'pandas.core.frame.DataFrame'>\n",
      "RangeIndex: 2371 entries, 0 to 2370\n",
      "Data columns (total 8 columns):\n",
      " #   Column                  Non-Null Count  Dtype  \n",
      "---  ------                  --------------  -----  \n",
      " 0   Date                    2366 non-null   object \n",
      " 1   Salinity (ppt)          2241 non-null   float64\n",
      " 2   DissolvedOxygen (mg/L)  1520 non-null   float64\n",
      " 3   pH                      2276 non-null   float64\n",
      " 4   SecchiDepth (m)         2298 non-null   float64\n",
      " 5   WaterDepth (m)          2300 non-null   float64\n",
      " 6   WaterTemp (C)           2250 non-null   float64\n",
      " 7   AirTemp (C)             2371 non-null   float64\n",
      "dtypes: float64(7), object(1)\n",
      "memory usage: 148.3+ KB\n"
     ]
    }
   ],
   "source": [
    "df.info()"
   ]
  },
  {
   "cell_type": "code",
   "execution_count": 5,
   "id": "8df4f138",
   "metadata": {
    "execution": {
     "iopub.execute_input": "2025-07-18T07:17:02.508690Z",
     "iopub.status.busy": "2025-07-18T07:17:02.507783Z",
     "iopub.status.idle": "2025-07-18T07:17:02.549588Z",
     "shell.execute_reply": "2025-07-18T07:17:02.548590Z"
    },
    "papermill": {
     "duration": 0.048561,
     "end_time": "2025-07-18T07:17:02.551499",
     "exception": false,
     "start_time": "2025-07-18T07:17:02.502938",
     "status": "completed"
    },
    "tags": []
   },
   "outputs": [
    {
     "data": {
      "text/html": [
       "<div>\n",
       "<style scoped>\n",
       "    .dataframe tbody tr th:only-of-type {\n",
       "        vertical-align: middle;\n",
       "    }\n",
       "\n",
       "    .dataframe tbody tr th {\n",
       "        vertical-align: top;\n",
       "    }\n",
       "\n",
       "    .dataframe thead th {\n",
       "        text-align: right;\n",
       "    }\n",
       "</style>\n",
       "<table border=\"1\" class=\"dataframe\">\n",
       "  <thead>\n",
       "    <tr style=\"text-align: right;\">\n",
       "      <th></th>\n",
       "      <th>count</th>\n",
       "      <th>mean</th>\n",
       "      <th>std</th>\n",
       "      <th>min</th>\n",
       "      <th>25%</th>\n",
       "      <th>50%</th>\n",
       "      <th>75%</th>\n",
       "      <th>max</th>\n",
       "    </tr>\n",
       "  </thead>\n",
       "  <tbody>\n",
       "    <tr>\n",
       "      <th>Salinity (ppt)</th>\n",
       "      <td>2241.0</td>\n",
       "      <td>0.717068</td>\n",
       "      <td>1.230819</td>\n",
       "      <td>0.000000</td>\n",
       "      <td>0.000000</td>\n",
       "      <td>0.000000</td>\n",
       "      <td>1.000000</td>\n",
       "      <td>9.0</td>\n",
       "    </tr>\n",
       "    <tr>\n",
       "      <th>DissolvedOxygen (mg/L)</th>\n",
       "      <td>1520.0</td>\n",
       "      <td>6.646263</td>\n",
       "      <td>2.506608</td>\n",
       "      <td>0.000000</td>\n",
       "      <td>4.800000</td>\n",
       "      <td>6.500000</td>\n",
       "      <td>8.500000</td>\n",
       "      <td>15.1</td>\n",
       "    </tr>\n",
       "    <tr>\n",
       "      <th>pH</th>\n",
       "      <td>2276.0</td>\n",
       "      <td>7.168212</td>\n",
       "      <td>0.788485</td>\n",
       "      <td>0.300000</td>\n",
       "      <td>6.500000</td>\n",
       "      <td>7.000000</td>\n",
       "      <td>7.500000</td>\n",
       "      <td>9.9</td>\n",
       "    </tr>\n",
       "    <tr>\n",
       "      <th>SecchiDepth (m)</th>\n",
       "      <td>2298.0</td>\n",
       "      <td>0.524898</td>\n",
       "      <td>0.473663</td>\n",
       "      <td>0.000000</td>\n",
       "      <td>0.300000</td>\n",
       "      <td>0.400000</td>\n",
       "      <td>0.650000</td>\n",
       "      <td>9.0</td>\n",
       "    </tr>\n",
       "    <tr>\n",
       "      <th>WaterDepth (m)</th>\n",
       "      <td>2300.0</td>\n",
       "      <td>0.762559</td>\n",
       "      <td>0.621140</td>\n",
       "      <td>0.010000</td>\n",
       "      <td>0.400000</td>\n",
       "      <td>0.650000</td>\n",
       "      <td>0.950000</td>\n",
       "      <td>12.0</td>\n",
       "    </tr>\n",
       "    <tr>\n",
       "      <th>WaterTemp (C)</th>\n",
       "      <td>2250.0</td>\n",
       "      <td>18.062138</td>\n",
       "      <td>8.298246</td>\n",
       "      <td>0.000000</td>\n",
       "      <td>11.000000</td>\n",
       "      <td>19.000000</td>\n",
       "      <td>25.000000</td>\n",
       "      <td>74.0</td>\n",
       "    </tr>\n",
       "    <tr>\n",
       "      <th>AirTemp (C)</th>\n",
       "      <td>2371.0</td>\n",
       "      <td>15.663050</td>\n",
       "      <td>10.314720</td>\n",
       "      <td>-17.777778</td>\n",
       "      <td>8.888889</td>\n",
       "      <td>16.666667</td>\n",
       "      <td>23.888889</td>\n",
       "      <td>33.5</td>\n",
       "    </tr>\n",
       "  </tbody>\n",
       "</table>\n",
       "</div>"
      ],
      "text/plain": [
       "                         count       mean        std        min        25%  \\\n",
       "Salinity (ppt)          2241.0   0.717068   1.230819   0.000000   0.000000   \n",
       "DissolvedOxygen (mg/L)  1520.0   6.646263   2.506608   0.000000   4.800000   \n",
       "pH                      2276.0   7.168212   0.788485   0.300000   6.500000   \n",
       "SecchiDepth (m)         2298.0   0.524898   0.473663   0.000000   0.300000   \n",
       "WaterDepth (m)          2300.0   0.762559   0.621140   0.010000   0.400000   \n",
       "WaterTemp (C)           2250.0  18.062138   8.298246   0.000000  11.000000   \n",
       "AirTemp (C)             2371.0  15.663050  10.314720 -17.777778   8.888889   \n",
       "\n",
       "                              50%        75%   max  \n",
       "Salinity (ppt)           0.000000   1.000000   9.0  \n",
       "DissolvedOxygen (mg/L)   6.500000   8.500000  15.1  \n",
       "pH                       7.000000   7.500000   9.9  \n",
       "SecchiDepth (m)          0.400000   0.650000   9.0  \n",
       "WaterDepth (m)           0.650000   0.950000  12.0  \n",
       "WaterTemp (C)           19.000000  25.000000  74.0  \n",
       "AirTemp (C)             16.666667  23.888889  33.5  "
      ]
     },
     "execution_count": 5,
     "metadata": {},
     "output_type": "execute_result"
    }
   ],
   "source": [
    "df.describe().T"
   ]
  },
  {
   "cell_type": "code",
   "execution_count": 6,
   "id": "e6e49ba5",
   "metadata": {
    "execution": {
     "iopub.execute_input": "2025-07-18T07:17:02.561947Z",
     "iopub.status.busy": "2025-07-18T07:17:02.561473Z",
     "iopub.status.idle": "2025-07-18T07:17:02.575126Z",
     "shell.execute_reply": "2025-07-18T07:17:02.574267Z"
    },
    "papermill": {
     "duration": 0.021033,
     "end_time": "2025-07-18T07:17:02.576746",
     "exception": false,
     "start_time": "2025-07-18T07:17:02.555713",
     "status": "completed"
    },
    "tags": []
   },
   "outputs": [
    {
     "data": {
      "text/plain": [
       "Date                      5\n",
       "Salinity (ppt)            0\n",
       "DissolvedOxygen (mg/L)    0\n",
       "pH                        0\n",
       "SecchiDepth (m)           0\n",
       "WaterDepth (m)            0\n",
       "WaterTemp (C)             0\n",
       "AirTemp (C)               0\n",
       "dtype: int64"
      ]
     },
     "execution_count": 6,
     "metadata": {},
     "output_type": "execute_result"
    }
   ],
   "source": [
    "df.fillna(df.mean(numeric_only=True), inplace=True)\n",
    "df.isnull().sum()\n"
   ]
  },
  {
   "cell_type": "code",
   "execution_count": 7,
   "id": "df6992a5",
   "metadata": {
    "execution": {
     "iopub.execute_input": "2025-07-18T07:17:02.586436Z",
     "iopub.status.busy": "2025-07-18T07:17:02.586105Z",
     "iopub.status.idle": "2025-07-18T07:17:02.592260Z",
     "shell.execute_reply": "2025-07-18T07:17:02.591374Z"
    },
    "papermill": {
     "duration": 0.012631,
     "end_time": "2025-07-18T07:17:02.593694",
     "exception": false,
     "start_time": "2025-07-18T07:17:02.581063",
     "status": "completed"
    },
    "tags": []
   },
   "outputs": [
    {
     "data": {
      "text/plain": [
       "(2371, 8)"
      ]
     },
     "execution_count": 7,
     "metadata": {},
     "output_type": "execute_result"
    }
   ],
   "source": [
    "df.shape"
   ]
  },
  {
   "cell_type": "code",
   "execution_count": 8,
   "id": "c8006be9",
   "metadata": {
    "execution": {
     "iopub.execute_input": "2025-07-18T07:17:02.603668Z",
     "iopub.status.busy": "2025-07-18T07:17:02.603341Z",
     "iopub.status.idle": "2025-07-18T07:17:02.607302Z",
     "shell.execute_reply": "2025-07-18T07:17:02.606532Z"
    },
    "papermill": {
     "duration": 0.010589,
     "end_time": "2025-07-18T07:17:02.608693",
     "exception": false,
     "start_time": "2025-07-18T07:17:02.598104",
     "status": "completed"
    },
    "tags": []
   },
   "outputs": [],
   "source": [
    "# df = df.dropna(subset=[\n",
    "#     'Salinity (ppt)', 'DissolvedOxygen (mg/L)', 'pH', \n",
    "#     'SecchiDepth (m)', 'WaterDepth (m)', 'WaterTemp (C)', 'AirTemp (C)'\n",
    "# ])\n",
    "# df.head(20)\n"
   ]
  },
  {
   "cell_type": "code",
   "execution_count": 9,
   "id": "cfa8ac48",
   "metadata": {
    "execution": {
     "iopub.execute_input": "2025-07-18T07:17:02.618940Z",
     "iopub.status.busy": "2025-07-18T07:17:02.618124Z",
     "iopub.status.idle": "2025-07-18T07:17:02.663350Z",
     "shell.execute_reply": "2025-07-18T07:17:02.662445Z"
    },
    "papermill": {
     "duration": 0.052154,
     "end_time": "2025-07-18T07:17:02.665106",
     "exception": false,
     "start_time": "2025-07-18T07:17:02.612952",
     "status": "completed"
    },
    "tags": []
   },
   "outputs": [],
   "source": [
    "def label_environment(row):\n",
    "    if 6.5 <= row['pH'] <= 8.5 and row['DissolvedOxygen (mg/L)'] >= 5 and 0.5 <= row['Salinity (ppt)'] <= 30:\n",
    "        return 'Good'\n",
    "    elif (row['pH'] < 6.5 or row['pH'] > 8.5 or row['DissolvedOxygen (mg/L)'] < 3 or row['Salinity (ppt)'] < 0.5):\n",
    "        return 'Poor'\n",
    "    else:\n",
    "        return 'Moderate'\n",
    "\n",
    "df['EnvironmentQuality'] = df.apply(label_environment, axis=1)"
   ]
  },
  {
   "cell_type": "code",
   "execution_count": 10,
   "id": "16828a1a",
   "metadata": {
    "execution": {
     "iopub.execute_input": "2025-07-18T07:17:02.675906Z",
     "iopub.status.busy": "2025-07-18T07:17:02.675560Z",
     "iopub.status.idle": "2025-07-18T07:17:02.713718Z",
     "shell.execute_reply": "2025-07-18T07:17:02.712717Z"
    },
    "papermill": {
     "duration": 0.045144,
     "end_time": "2025-07-18T07:17:02.715467",
     "exception": false,
     "start_time": "2025-07-18T07:17:02.670323",
     "status": "completed"
    },
    "tags": []
   },
   "outputs": [],
   "source": [
    "def simulate_bacteria_level(row):\n",
    "    if row['DissolvedOxygen (mg/L)'] < 3 or row['pH'] < 6.5 or row['WaterTemp (C)'] > 30:\n",
    "        return 'High'\n",
    "    elif row['DissolvedOxygen (mg/L)'] < 5 or row['WaterTemp (C)'] > 28:\n",
    "        return 'Moderate'\n",
    "    else:\n",
    "        return 'Low'\n",
    "\n",
    "df['BacteriaLevel'] = df.apply(simulate_bacteria_level, axis=1)\n"
   ]
  },
  {
   "cell_type": "code",
   "execution_count": 11,
   "id": "5750c5e4",
   "metadata": {
    "execution": {
     "iopub.execute_input": "2025-07-18T07:17:02.725756Z",
     "iopub.status.busy": "2025-07-18T07:17:02.725411Z",
     "iopub.status.idle": "2025-07-18T07:17:02.735129Z",
     "shell.execute_reply": "2025-07-18T07:17:02.734243Z"
    },
    "papermill": {
     "duration": 0.016658,
     "end_time": "2025-07-18T07:17:02.736710",
     "exception": false,
     "start_time": "2025-07-18T07:17:02.720052",
     "status": "completed"
    },
    "tags": []
   },
   "outputs": [],
   "source": [
    "features = ['Salinity (ppt)', 'DissolvedOxygen (mg/L)', 'pH', 'SecchiDepth (m)',\n",
    "            'WaterDepth (m)', 'WaterTemp (C)', 'AirTemp (C)']\n",
    "\n",
    "X = df[features]\n",
    "le_env = LabelEncoder()\n",
    "le_bact = LabelEncoder()\n",
    "y_env = le_env.fit_transform(df['EnvironmentQuality'])\n",
    "y_bact = le_bact.fit_transform(df['BacteriaLevel'])"
   ]
  },
  {
   "cell_type": "code",
   "execution_count": 12,
   "id": "8584bf2e",
   "metadata": {
    "execution": {
     "iopub.execute_input": "2025-07-18T07:17:02.746786Z",
     "iopub.status.busy": "2025-07-18T07:17:02.746462Z",
     "iopub.status.idle": "2025-07-18T07:17:02.751031Z",
     "shell.execute_reply": "2025-07-18T07:17:02.750103Z"
    },
    "papermill": {
     "duration": 0.01132,
     "end_time": "2025-07-18T07:17:02.752686",
     "exception": false,
     "start_time": "2025-07-18T07:17:02.741366",
     "status": "completed"
    },
    "tags": []
   },
   "outputs": [],
   "source": [
    "Y = np.column_stack((y_env, y_bact))"
   ]
  },
  {
   "cell_type": "code",
   "execution_count": 13,
   "id": "7218b98c",
   "metadata": {
    "execution": {
     "iopub.execute_input": "2025-07-18T07:17:02.762308Z",
     "iopub.status.busy": "2025-07-18T07:17:02.761994Z",
     "iopub.status.idle": "2025-07-18T07:17:02.769161Z",
     "shell.execute_reply": "2025-07-18T07:17:02.768232Z"
    },
    "papermill": {
     "duration": 0.013902,
     "end_time": "2025-07-18T07:17:02.770804",
     "exception": false,
     "start_time": "2025-07-18T07:17:02.756902",
     "status": "completed"
    },
    "tags": []
   },
   "outputs": [],
   "source": [
    "X_train, X_test, Y_train, Y_test = train_test_split(X, Y, test_size=0.2, random_state=42)"
   ]
  },
  {
   "cell_type": "code",
   "execution_count": 14,
   "id": "34b63de2",
   "metadata": {
    "execution": {
     "iopub.execute_input": "2025-07-18T07:17:02.781447Z",
     "iopub.status.busy": "2025-07-18T07:17:02.781118Z",
     "iopub.status.idle": "2025-07-18T07:17:03.245888Z",
     "shell.execute_reply": "2025-07-18T07:17:03.244921Z"
    },
    "papermill": {
     "duration": 0.472204,
     "end_time": "2025-07-18T07:17:03.247698",
     "exception": false,
     "start_time": "2025-07-18T07:17:02.775494",
     "status": "completed"
    },
    "tags": []
   },
   "outputs": [
    {
     "data": {
      "text/html": [
       "<style>#sk-container-id-1 {color: black;background-color: white;}#sk-container-id-1 pre{padding: 0;}#sk-container-id-1 div.sk-toggleable {background-color: white;}#sk-container-id-1 label.sk-toggleable__label {cursor: pointer;display: block;width: 100%;margin-bottom: 0;padding: 0.3em;box-sizing: border-box;text-align: center;}#sk-container-id-1 label.sk-toggleable__label-arrow:before {content: \"▸\";float: left;margin-right: 0.25em;color: #696969;}#sk-container-id-1 label.sk-toggleable__label-arrow:hover:before {color: black;}#sk-container-id-1 div.sk-estimator:hover label.sk-toggleable__label-arrow:before {color: black;}#sk-container-id-1 div.sk-toggleable__content {max-height: 0;max-width: 0;overflow: hidden;text-align: left;background-color: #f0f8ff;}#sk-container-id-1 div.sk-toggleable__content pre {margin: 0.2em;color: black;border-radius: 0.25em;background-color: #f0f8ff;}#sk-container-id-1 input.sk-toggleable__control:checked~div.sk-toggleable__content {max-height: 200px;max-width: 100%;overflow: auto;}#sk-container-id-1 input.sk-toggleable__control:checked~label.sk-toggleable__label-arrow:before {content: \"▾\";}#sk-container-id-1 div.sk-estimator input.sk-toggleable__control:checked~label.sk-toggleable__label {background-color: #d4ebff;}#sk-container-id-1 div.sk-label input.sk-toggleable__control:checked~label.sk-toggleable__label {background-color: #d4ebff;}#sk-container-id-1 input.sk-hidden--visually {border: 0;clip: rect(1px 1px 1px 1px);clip: rect(1px, 1px, 1px, 1px);height: 1px;margin: -1px;overflow: hidden;padding: 0;position: absolute;width: 1px;}#sk-container-id-1 div.sk-estimator {font-family: monospace;background-color: #f0f8ff;border: 1px dotted black;border-radius: 0.25em;box-sizing: border-box;margin-bottom: 0.5em;}#sk-container-id-1 div.sk-estimator:hover {background-color: #d4ebff;}#sk-container-id-1 div.sk-parallel-item::after {content: \"\";width: 100%;border-bottom: 1px solid gray;flex-grow: 1;}#sk-container-id-1 div.sk-label:hover label.sk-toggleable__label {background-color: #d4ebff;}#sk-container-id-1 div.sk-serial::before {content: \"\";position: absolute;border-left: 1px solid gray;box-sizing: border-box;top: 0;bottom: 0;left: 50%;z-index: 0;}#sk-container-id-1 div.sk-serial {display: flex;flex-direction: column;align-items: center;background-color: white;padding-right: 0.2em;padding-left: 0.2em;position: relative;}#sk-container-id-1 div.sk-item {position: relative;z-index: 1;}#sk-container-id-1 div.sk-parallel {display: flex;align-items: stretch;justify-content: center;background-color: white;position: relative;}#sk-container-id-1 div.sk-item::before, #sk-container-id-1 div.sk-parallel-item::before {content: \"\";position: absolute;border-left: 1px solid gray;box-sizing: border-box;top: 0;bottom: 0;left: 50%;z-index: -1;}#sk-container-id-1 div.sk-parallel-item {display: flex;flex-direction: column;z-index: 1;position: relative;background-color: white;}#sk-container-id-1 div.sk-parallel-item:first-child::after {align-self: flex-end;width: 50%;}#sk-container-id-1 div.sk-parallel-item:last-child::after {align-self: flex-start;width: 50%;}#sk-container-id-1 div.sk-parallel-item:only-child::after {width: 0;}#sk-container-id-1 div.sk-dashed-wrapped {border: 1px dashed gray;margin: 0 0.4em 0.5em 0.4em;box-sizing: border-box;padding-bottom: 0.4em;background-color: white;}#sk-container-id-1 div.sk-label label {font-family: monospace;font-weight: bold;display: inline-block;line-height: 1.2em;}#sk-container-id-1 div.sk-label-container {text-align: center;}#sk-container-id-1 div.sk-container {/* jupyter's `normalize.less` sets `[hidden] { display: none; }` but bootstrap.min.css set `[hidden] { display: none !important; }` so we also need the `!important` here to be able to override the default hidden behavior on the sphinx rendered scikit-learn.org. See: https://github.com/scikit-learn/scikit-learn/issues/21755 */display: inline-block !important;position: relative;}#sk-container-id-1 div.sk-text-repr-fallback {display: none;}</style><div id=\"sk-container-id-1\" class=\"sk-top-container\"><div class=\"sk-text-repr-fallback\"><pre>MultiOutputClassifier(estimator=RandomForestClassifier(random_state=42))</pre><b>In a Jupyter environment, please rerun this cell to show the HTML representation or trust the notebook. <br />On GitHub, the HTML representation is unable to render, please try loading this page with nbviewer.org.</b></div><div class=\"sk-container\" hidden><div class=\"sk-item sk-dashed-wrapped\"><div class=\"sk-label-container\"><div class=\"sk-label sk-toggleable\"><input class=\"sk-toggleable__control sk-hidden--visually\" id=\"sk-estimator-id-1\" type=\"checkbox\" ><label for=\"sk-estimator-id-1\" class=\"sk-toggleable__label sk-toggleable__label-arrow\">MultiOutputClassifier</label><div class=\"sk-toggleable__content\"><pre>MultiOutputClassifier(estimator=RandomForestClassifier(random_state=42))</pre></div></div></div><div class=\"sk-parallel\"><div class=\"sk-parallel-item\"><div class=\"sk-item\"><div class=\"sk-label-container\"><div class=\"sk-label sk-toggleable\"><input class=\"sk-toggleable__control sk-hidden--visually\" id=\"sk-estimator-id-2\" type=\"checkbox\" ><label for=\"sk-estimator-id-2\" class=\"sk-toggleable__label sk-toggleable__label-arrow\">estimator: RandomForestClassifier</label><div class=\"sk-toggleable__content\"><pre>RandomForestClassifier(random_state=42)</pre></div></div></div><div class=\"sk-serial\"><div class=\"sk-item\"><div class=\"sk-estimator sk-toggleable\"><input class=\"sk-toggleable__control sk-hidden--visually\" id=\"sk-estimator-id-3\" type=\"checkbox\" ><label for=\"sk-estimator-id-3\" class=\"sk-toggleable__label sk-toggleable__label-arrow\">RandomForestClassifier</label><div class=\"sk-toggleable__content\"><pre>RandomForestClassifier(random_state=42)</pre></div></div></div></div></div></div></div></div></div></div>"
      ],
      "text/plain": [
       "MultiOutputClassifier(estimator=RandomForestClassifier(random_state=42))"
      ]
     },
     "execution_count": 14,
     "metadata": {},
     "output_type": "execute_result"
    }
   ],
   "source": [
    "base_model = RandomForestClassifier(n_estimators=100, random_state=42)\n",
    "model = MultiOutputClassifier(base_model)\n",
    "model.fit(X_train, Y_train)"
   ]
  },
  {
   "cell_type": "code",
   "execution_count": 15,
   "id": "acd84979",
   "metadata": {
    "execution": {
     "iopub.execute_input": "2025-07-18T07:17:03.258779Z",
     "iopub.status.busy": "2025-07-18T07:17:03.258437Z",
     "iopub.status.idle": "2025-07-18T07:17:03.302886Z",
     "shell.execute_reply": "2025-07-18T07:17:03.301680Z"
    },
    "papermill": {
     "duration": 0.051965,
     "end_time": "2025-07-18T07:17:03.304621",
     "exception": false,
     "start_time": "2025-07-18T07:17:03.252656",
     "status": "completed"
    },
    "tags": []
   },
   "outputs": [
    {
     "name": "stdout",
     "output_type": "stream",
     "text": [
      "Environment Quality Prediction:\n",
      "Accuracy: 99.79%\n",
      "              precision    recall  f1-score   support\n",
      "\n",
      "        Good       1.00      1.00      1.00       148\n",
      "    Moderate       0.93      1.00      0.96        13\n",
      "        Poor       1.00      1.00      1.00       314\n",
      "\n",
      "    accuracy                           1.00       475\n",
      "   macro avg       0.98      1.00      0.99       475\n",
      "weighted avg       1.00      1.00      1.00       475\n",
      "\n",
      "Bacteria Level Prediction:\n",
      "Accuracy: 99.79%\n",
      "              precision    recall  f1-score   support\n",
      "\n",
      "        High       1.00      1.00      1.00        39\n",
      "         Low       1.00      1.00      1.00       365\n",
      "    Moderate       1.00      0.99      0.99        71\n",
      "\n",
      "    accuracy                           1.00       475\n",
      "   macro avg       1.00      1.00      1.00       475\n",
      "weighted avg       1.00      1.00      1.00       475\n",
      "\n"
     ]
    }
   ],
   "source": [
    "y_pred = model.predict(X_test)\n",
    "\n",
    "# Separate multi-output columns\n",
    "y_env_test = Y_test[:, 0]\n",
    "y_bact_test = Y_test[:, 1]\n",
    "\n",
    "y_env_pred = y_pred[:, 0]\n",
    "y_bact_pred = y_pred[:, 1]\n",
    "\n",
    "# Environment Quality Accuracy & Report\n",
    "print(\"Environment Quality Prediction:\")\n",
    "print(f\"Accuracy: {accuracy_score(y_env_test, y_env_pred) * 100:.2f}%\")\n",
    "print(classification_report(y_env_test, y_env_pred, target_names=le_env.classes_))\n",
    "\n",
    "# Bacteria Level Accuracy & Report\n",
    "print(\"Bacteria Level Prediction:\")\n",
    "print(f\"Accuracy: {accuracy_score(y_bact_test, y_bact_pred) * 100:.2f}%\")\n",
    "print(classification_report(y_bact_test, y_bact_pred, target_names=le_bact.classes_))"
   ]
  },
  {
   "cell_type": "code",
   "execution_count": 16,
   "id": "500b2396",
   "metadata": {
    "execution": {
     "iopub.execute_input": "2025-07-18T07:17:03.315157Z",
     "iopub.status.busy": "2025-07-18T07:17:03.314818Z",
     "iopub.status.idle": "2025-07-18T07:17:03.429928Z",
     "shell.execute_reply": "2025-07-18T07:17:03.428763Z"
    },
    "papermill": {
     "duration": 0.122521,
     "end_time": "2025-07-18T07:17:03.431754",
     "exception": false,
     "start_time": "2025-07-18T07:17:03.309233",
     "status": "completed"
    },
    "tags": []
   },
   "outputs": [],
   "source": [
    "with open('multioutput_model.pkl', 'wb') as f:\n",
    "    pickle.dump(model, f)"
   ]
  },
  {
   "cell_type": "code",
   "execution_count": 17,
   "id": "383ea84d",
   "metadata": {
    "execution": {
     "iopub.execute_input": "2025-07-18T07:17:03.442670Z",
     "iopub.status.busy": "2025-07-18T07:17:03.442349Z",
     "iopub.status.idle": "2025-07-18T07:17:03.448789Z",
     "shell.execute_reply": "2025-07-18T07:17:03.447898Z"
    },
    "papermill": {
     "duration": 0.013767,
     "end_time": "2025-07-18T07:17:03.450378",
     "exception": false,
     "start_time": "2025-07-18T07:17:03.436611",
     "status": "completed"
    },
    "tags": []
   },
   "outputs": [],
   "source": [
    "def predict_env_and_bact_quality(new_data):\n",
    "    import numpy as np\n",
    "    import pandas as pd\n",
    "    import pickle\n",
    "\n",
    "    # Re-create the encoders (you can also save/load them from file)\n",
    "    env_labels = ['Poor', 'Moderate', 'Good']\n",
    "    bact_labels = ['Low', 'Medium', 'High']\n",
    "\n",
    "    # Convert input dict to DataFrame\n",
    "    df_input = pd.DataFrame([new_data])\n",
    "\n",
    "    # Load the model\n",
    "    with open('multioutput_model.pkl', 'rb') as f:\n",
    "        loaded_model = pickle.load(f)\n",
    "\n",
    "    # Predict\n",
    "    y_pred = loaded_model.predict(df_input)[0]\n",
    "\n",
    "    # Decode numerical predictions\n",
    "    env_quality = env_labels[y_pred[0]]\n",
    "    bact_level = bact_labels[y_pred[1]]\n",
    "\n",
    "    return {\n",
    "        \"Environment Quality\": env_quality,\n",
    "        \"Bacteria Level\": bact_level\n",
    "    }\n"
   ]
  },
  {
   "cell_type": "code",
   "execution_count": 18,
   "id": "797b500f",
   "metadata": {
    "execution": {
     "iopub.execute_input": "2025-07-18T07:17:03.460626Z",
     "iopub.status.busy": "2025-07-18T07:17:03.460265Z",
     "iopub.status.idle": "2025-07-18T07:17:03.490178Z",
     "shell.execute_reply": "2025-07-18T07:17:03.488956Z"
    },
    "papermill": {
     "duration": 0.036839,
     "end_time": "2025-07-18T07:17:03.491819",
     "exception": false,
     "start_time": "2025-07-18T07:17:03.454980",
     "status": "completed"
    },
    "tags": []
   },
   "outputs": [
    {
     "name": "stdout",
     "output_type": "stream",
     "text": [
      "🐟 Prediction Result:\n",
      " - Environment Quality: Good\n",
      " - Bacteria Level: Low\n"
     ]
    }
   ],
   "source": [
    "sample_input = {\n",
    "    'Salinity (ppt)': 9.5,\n",
    "    'DissolvedOxygen (mg/L)': 3.1,\n",
    "    'pH': 5.8,\n",
    "    'SecchiDepth (m)': 0.7,\n",
    "    'WaterDepth (m)': 1.2,\n",
    "    'WaterTemp (C)': 30.5,\n",
    "    'AirTemp (C)': 34.2\n",
    "}\n",
    "\n",
    "\n",
    "result = predict_env_and_bact_quality(sample_input)\n",
    "\n",
    "print(\"🐟 Prediction Result:\")\n",
    "print(f\" - Environment Quality: {result['Environment Quality']}\")\n",
    "print(f\" - Bacteria Level: {result['Bacteria Level']}\")\n"
   ]
  }
 ],
 "metadata": {
  "kaggle": {
   "accelerator": "none",
   "dataSources": [
    {
     "datasetId": 3262886,
     "sourceId": 5695672,
     "sourceType": "datasetVersion"
    },
    {
     "datasetId": 4898629,
     "sourceId": 8254852,
     "sourceType": "datasetVersion"
    }
   ],
   "dockerImageVersionId": 31089,
   "isGpuEnabled": false,
   "isInternetEnabled": false,
   "language": "python",
   "sourceType": "notebook"
  },
  "kernelspec": {
   "display_name": "Python 3",
   "language": "python",
   "name": "python3"
  },
  "language_info": {
   "codemirror_mode": {
    "name": "ipython",
    "version": 3
   },
   "file_extension": ".py",
   "mimetype": "text/x-python",
   "name": "python",
   "nbconvert_exporter": "python",
   "pygments_lexer": "ipython3",
   "version": "3.11.13"
  },
  "papermill": {
   "default_parameters": {},
   "duration": 11.391952,
   "end_time": "2025-07-18T07:17:04.217928",
   "environment_variables": {},
   "exception": null,
   "input_path": "__notebook__.ipynb",
   "output_path": "__notebook__.ipynb",
   "parameters": {},
   "start_time": "2025-07-18T07:16:52.825976",
   "version": "2.6.0"
  }
 },
 "nbformat": 4,
 "nbformat_minor": 5
}
