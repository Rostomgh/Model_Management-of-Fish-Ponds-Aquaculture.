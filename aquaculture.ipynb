{
 "cells": [
  {
   "cell_type": "code",
   "execution_count": 1,
   "id": "2d478e22",
   "metadata": {
    "_cell_guid": "b1076dfc-b9ad-4769-8c92-a6c4dae69d19",
    "_uuid": "8f2839f25d086af736a60e9eeb907d3b93b6e0e5",
    "execution": {
     "iopub.execute_input": "2025-07-18T04:54:38.236540Z",
     "iopub.status.busy": "2025-07-18T04:54:38.236152Z",
     "iopub.status.idle": "2025-07-18T04:54:42.539282Z",
     "shell.execute_reply": "2025-07-18T04:54:42.538178Z"
    },
    "papermill": {
     "duration": 4.310242,
     "end_time": "2025-07-18T04:54:42.541377",
     "exception": false,
     "start_time": "2025-07-18T04:54:38.231135",
     "status": "completed"
    },
    "tags": []
   },
   "outputs": [],
   "source": [
    "import pandas as pd\n",
    "from sklearn.model_selection import train_test_split\n",
    "from sklearn.ensemble import RandomForestClassifier\n",
    "from sklearn.metrics import accuracy_score, classification_report\n",
    "import pickle"
   ]
  },
  {
   "cell_type": "code",
   "execution_count": 2,
   "id": "1480dbd8",
   "metadata": {
    "execution": {
     "iopub.execute_input": "2025-07-18T04:54:42.549652Z",
     "iopub.status.busy": "2025-07-18T04:54:42.549174Z",
     "iopub.status.idle": "2025-07-18T04:54:42.577705Z",
     "shell.execute_reply": "2025-07-18T04:54:42.576880Z"
    },
    "papermill": {
     "duration": 0.034464,
     "end_time": "2025-07-18T04:54:42.579466",
     "exception": false,
     "start_time": "2025-07-18T04:54:42.545002",
     "status": "completed"
    },
    "tags": []
   },
   "outputs": [],
   "source": [
    "df = pd.read_csv('/kaggle/input/water-quality-data/waterquality.csv')\n"
   ]
  },
  {
   "cell_type": "code",
   "execution_count": 3,
   "id": "d004eda7",
   "metadata": {
    "execution": {
     "iopub.execute_input": "2025-07-18T04:54:42.587025Z",
     "iopub.status.busy": "2025-07-18T04:54:42.586105Z",
     "iopub.status.idle": "2025-07-18T04:54:42.599782Z",
     "shell.execute_reply": "2025-07-18T04:54:42.598790Z"
    },
    "papermill": {
     "duration": 0.019036,
     "end_time": "2025-07-18T04:54:42.601406",
     "exception": false,
     "start_time": "2025-07-18T04:54:42.582370",
     "status": "completed"
    },
    "tags": []
   },
   "outputs": [
    {
     "data": {
      "text/plain": [
       "Date                        5\n",
       "Salinity (ppt)            130\n",
       "DissolvedOxygen (mg/L)    851\n",
       "pH                         95\n",
       "SecchiDepth (m)            73\n",
       "WaterDepth (m)             71\n",
       "WaterTemp (C)             121\n",
       "AirTemp (C)                 0\n",
       "dtype: int64"
      ]
     },
     "execution_count": 3,
     "metadata": {},
     "output_type": "execute_result"
    }
   ],
   "source": [
    "df.isna().sum()"
   ]
  },
  {
   "cell_type": "code",
   "execution_count": 4,
   "id": "632e690c",
   "metadata": {
    "execution": {
     "iopub.execute_input": "2025-07-18T04:54:42.608796Z",
     "iopub.status.busy": "2025-07-18T04:54:42.608394Z",
     "iopub.status.idle": "2025-07-18T04:54:42.653405Z",
     "shell.execute_reply": "2025-07-18T04:54:42.652473Z"
    },
    "papermill": {
     "duration": 0.050615,
     "end_time": "2025-07-18T04:54:42.655024",
     "exception": false,
     "start_time": "2025-07-18T04:54:42.604409",
     "status": "completed"
    },
    "tags": []
   },
   "outputs": [
    {
     "data": {
      "text/html": [
       "<div>\n",
       "<style scoped>\n",
       "    .dataframe tbody tr th:only-of-type {\n",
       "        vertical-align: middle;\n",
       "    }\n",
       "\n",
       "    .dataframe tbody tr th {\n",
       "        vertical-align: top;\n",
       "    }\n",
       "\n",
       "    .dataframe thead th {\n",
       "        text-align: right;\n",
       "    }\n",
       "</style>\n",
       "<table border=\"1\" class=\"dataframe\">\n",
       "  <thead>\n",
       "    <tr style=\"text-align: right;\">\n",
       "      <th></th>\n",
       "      <th>Date</th>\n",
       "      <th>Salinity (ppt)</th>\n",
       "      <th>DissolvedOxygen (mg/L)</th>\n",
       "      <th>pH</th>\n",
       "      <th>SecchiDepth (m)</th>\n",
       "      <th>WaterDepth (m)</th>\n",
       "      <th>WaterTemp (C)</th>\n",
       "      <th>AirTemp (C)</th>\n",
       "    </tr>\n",
       "  </thead>\n",
       "  <tbody>\n",
       "    <tr>\n",
       "      <th>19</th>\n",
       "      <td>1990-01-22</td>\n",
       "      <td>1.0</td>\n",
       "      <td>9.7</td>\n",
       "      <td>7.5</td>\n",
       "      <td>0.150</td>\n",
       "      <td>0.65</td>\n",
       "      <td>10.0</td>\n",
       "      <td>12.0</td>\n",
       "    </tr>\n",
       "    <tr>\n",
       "      <th>21</th>\n",
       "      <td>1990-02-07</td>\n",
       "      <td>3.4</td>\n",
       "      <td>10.8</td>\n",
       "      <td>7.5</td>\n",
       "      <td>0.200</td>\n",
       "      <td>0.60</td>\n",
       "      <td>10.0</td>\n",
       "      <td>10.0</td>\n",
       "    </tr>\n",
       "    <tr>\n",
       "      <th>22</th>\n",
       "      <td>1990-02-12</td>\n",
       "      <td>3.2</td>\n",
       "      <td>10.6</td>\n",
       "      <td>7.0</td>\n",
       "      <td>0.200</td>\n",
       "      <td>0.70</td>\n",
       "      <td>10.0</td>\n",
       "      <td>9.0</td>\n",
       "    </tr>\n",
       "    <tr>\n",
       "      <th>23</th>\n",
       "      <td>1990-02-20</td>\n",
       "      <td>4.2</td>\n",
       "      <td>11.6</td>\n",
       "      <td>7.5</td>\n",
       "      <td>0.150</td>\n",
       "      <td>0.39</td>\n",
       "      <td>5.0</td>\n",
       "      <td>5.0</td>\n",
       "    </tr>\n",
       "    <tr>\n",
       "      <th>24</th>\n",
       "      <td>1990-02-27</td>\n",
       "      <td>2.8</td>\n",
       "      <td>13.8</td>\n",
       "      <td>7.0</td>\n",
       "      <td>0.500</td>\n",
       "      <td>1.50</td>\n",
       "      <td>2.5</td>\n",
       "      <td>1.0</td>\n",
       "    </tr>\n",
       "    <tr>\n",
       "      <th>25</th>\n",
       "      <td>1990-03-05</td>\n",
       "      <td>2.9</td>\n",
       "      <td>11.6</td>\n",
       "      <td>7.0</td>\n",
       "      <td>0.200</td>\n",
       "      <td>0.40</td>\n",
       "      <td>7.0</td>\n",
       "      <td>8.5</td>\n",
       "    </tr>\n",
       "    <tr>\n",
       "      <th>26</th>\n",
       "      <td>1990-03-12</td>\n",
       "      <td>2.9</td>\n",
       "      <td>9.0</td>\n",
       "      <td>7.0</td>\n",
       "      <td>0.150</td>\n",
       "      <td>0.69</td>\n",
       "      <td>17.0</td>\n",
       "      <td>21.0</td>\n",
       "    </tr>\n",
       "    <tr>\n",
       "      <th>27</th>\n",
       "      <td>1990-03-19</td>\n",
       "      <td>2.8</td>\n",
       "      <td>7.8</td>\n",
       "      <td>7.0</td>\n",
       "      <td>0.220</td>\n",
       "      <td>0.92</td>\n",
       "      <td>15.0</td>\n",
       "      <td>14.0</td>\n",
       "    </tr>\n",
       "    <tr>\n",
       "      <th>28</th>\n",
       "      <td>1990-03-26</td>\n",
       "      <td>3.0</td>\n",
       "      <td>10.8</td>\n",
       "      <td>7.0</td>\n",
       "      <td>0.250</td>\n",
       "      <td>0.40</td>\n",
       "      <td>9.5</td>\n",
       "      <td>9.0</td>\n",
       "    </tr>\n",
       "    <tr>\n",
       "      <th>29</th>\n",
       "      <td>1990-04-02</td>\n",
       "      <td>1.8</td>\n",
       "      <td>9.6</td>\n",
       "      <td>8.0</td>\n",
       "      <td>0.150</td>\n",
       "      <td>0.70</td>\n",
       "      <td>5.0</td>\n",
       "      <td>15.0</td>\n",
       "    </tr>\n",
       "    <tr>\n",
       "      <th>30</th>\n",
       "      <td>1990-04-09</td>\n",
       "      <td>4.1</td>\n",
       "      <td>10.8</td>\n",
       "      <td>7.0</td>\n",
       "      <td>0.250</td>\n",
       "      <td>0.78</td>\n",
       "      <td>11.0</td>\n",
       "      <td>12.0</td>\n",
       "    </tr>\n",
       "    <tr>\n",
       "      <th>31</th>\n",
       "      <td>1990-04-16</td>\n",
       "      <td>2.5</td>\n",
       "      <td>9.7</td>\n",
       "      <td>7.0</td>\n",
       "      <td>0.250</td>\n",
       "      <td>0.72</td>\n",
       "      <td>15.0</td>\n",
       "      <td>14.0</td>\n",
       "    </tr>\n",
       "    <tr>\n",
       "      <th>32</th>\n",
       "      <td>1990-04-23</td>\n",
       "      <td>2.8</td>\n",
       "      <td>10.7</td>\n",
       "      <td>7.0</td>\n",
       "      <td>0.250</td>\n",
       "      <td>0.59</td>\n",
       "      <td>15.0</td>\n",
       "      <td>15.0</td>\n",
       "    </tr>\n",
       "    <tr>\n",
       "      <th>33</th>\n",
       "      <td>1990-04-30</td>\n",
       "      <td>3.2</td>\n",
       "      <td>10.0</td>\n",
       "      <td>7.0</td>\n",
       "      <td>0.880</td>\n",
       "      <td>1.30</td>\n",
       "      <td>18.0</td>\n",
       "      <td>16.0</td>\n",
       "    </tr>\n",
       "    <tr>\n",
       "      <th>34</th>\n",
       "      <td>1990-05-07</td>\n",
       "      <td>4.5</td>\n",
       "      <td>8.9</td>\n",
       "      <td>7.0</td>\n",
       "      <td>0.250</td>\n",
       "      <td>0.75</td>\n",
       "      <td>17.0</td>\n",
       "      <td>18.0</td>\n",
       "    </tr>\n",
       "    <tr>\n",
       "      <th>35</th>\n",
       "      <td>1990-05-14</td>\n",
       "      <td>3.7</td>\n",
       "      <td>8.4</td>\n",
       "      <td>7.0</td>\n",
       "      <td>0.320</td>\n",
       "      <td>1.00</td>\n",
       "      <td>20.0</td>\n",
       "      <td>19.0</td>\n",
       "    </tr>\n",
       "    <tr>\n",
       "      <th>37</th>\n",
       "      <td>1990-05-29</td>\n",
       "      <td>2.1</td>\n",
       "      <td>8.9</td>\n",
       "      <td>7.0</td>\n",
       "      <td>0.375</td>\n",
       "      <td>0.95</td>\n",
       "      <td>19.0</td>\n",
       "      <td>20.0</td>\n",
       "    </tr>\n",
       "    <tr>\n",
       "      <th>38</th>\n",
       "      <td>1990-06-04</td>\n",
       "      <td>3.5</td>\n",
       "      <td>6.9</td>\n",
       "      <td>7.0</td>\n",
       "      <td>0.400</td>\n",
       "      <td>1.22</td>\n",
       "      <td>24.0</td>\n",
       "      <td>25.0</td>\n",
       "    </tr>\n",
       "    <tr>\n",
       "      <th>39</th>\n",
       "      <td>1990-06-11</td>\n",
       "      <td>3.2</td>\n",
       "      <td>7.9</td>\n",
       "      <td>7.0</td>\n",
       "      <td>0.350</td>\n",
       "      <td>0.75</td>\n",
       "      <td>24.0</td>\n",
       "      <td>22.0</td>\n",
       "    </tr>\n",
       "    <tr>\n",
       "      <th>40</th>\n",
       "      <td>1990-06-16</td>\n",
       "      <td>3.2</td>\n",
       "      <td>7.7</td>\n",
       "      <td>7.0</td>\n",
       "      <td>0.320</td>\n",
       "      <td>0.62</td>\n",
       "      <td>23.5</td>\n",
       "      <td>20.0</td>\n",
       "    </tr>\n",
       "  </tbody>\n",
       "</table>\n",
       "</div>"
      ],
      "text/plain": [
       "          Date  Salinity (ppt)  DissolvedOxygen (mg/L)   pH  SecchiDepth (m)  \\\n",
       "19  1990-01-22             1.0                     9.7  7.5            0.150   \n",
       "21  1990-02-07             3.4                    10.8  7.5            0.200   \n",
       "22  1990-02-12             3.2                    10.6  7.0            0.200   \n",
       "23  1990-02-20             4.2                    11.6  7.5            0.150   \n",
       "24  1990-02-27             2.8                    13.8  7.0            0.500   \n",
       "25  1990-03-05             2.9                    11.6  7.0            0.200   \n",
       "26  1990-03-12             2.9                     9.0  7.0            0.150   \n",
       "27  1990-03-19             2.8                     7.8  7.0            0.220   \n",
       "28  1990-03-26             3.0                    10.8  7.0            0.250   \n",
       "29  1990-04-02             1.8                     9.6  8.0            0.150   \n",
       "30  1990-04-09             4.1                    10.8  7.0            0.250   \n",
       "31  1990-04-16             2.5                     9.7  7.0            0.250   \n",
       "32  1990-04-23             2.8                    10.7  7.0            0.250   \n",
       "33  1990-04-30             3.2                    10.0  7.0            0.880   \n",
       "34  1990-05-07             4.5                     8.9  7.0            0.250   \n",
       "35  1990-05-14             3.7                     8.4  7.0            0.320   \n",
       "37  1990-05-29             2.1                     8.9  7.0            0.375   \n",
       "38  1990-06-04             3.5                     6.9  7.0            0.400   \n",
       "39  1990-06-11             3.2                     7.9  7.0            0.350   \n",
       "40  1990-06-16             3.2                     7.7  7.0            0.320   \n",
       "\n",
       "    WaterDepth (m)  WaterTemp (C)  AirTemp (C)  \n",
       "19            0.65           10.0         12.0  \n",
       "21            0.60           10.0         10.0  \n",
       "22            0.70           10.0          9.0  \n",
       "23            0.39            5.0          5.0  \n",
       "24            1.50            2.5          1.0  \n",
       "25            0.40            7.0          8.5  \n",
       "26            0.69           17.0         21.0  \n",
       "27            0.92           15.0         14.0  \n",
       "28            0.40            9.5          9.0  \n",
       "29            0.70            5.0         15.0  \n",
       "30            0.78           11.0         12.0  \n",
       "31            0.72           15.0         14.0  \n",
       "32            0.59           15.0         15.0  \n",
       "33            1.30           18.0         16.0  \n",
       "34            0.75           17.0         18.0  \n",
       "35            1.00           20.0         19.0  \n",
       "37            0.95           19.0         20.0  \n",
       "38            1.22           24.0         25.0  \n",
       "39            0.75           24.0         22.0  \n",
       "40            0.62           23.5         20.0  "
      ]
     },
     "execution_count": 4,
     "metadata": {},
     "output_type": "execute_result"
    }
   ],
   "source": [
    "df = df.dropna(subset=[\n",
    "    'Salinity (ppt)', 'DissolvedOxygen (mg/L)', 'pH', \n",
    "    'SecchiDepth (m)', 'WaterDepth (m)', 'WaterTemp (C)', 'AirTemp (C)'\n",
    "])\n",
    "df.head(20)\n"
   ]
  },
  {
   "cell_type": "code",
   "execution_count": 5,
   "id": "c7c610e1",
   "metadata": {
    "execution": {
     "iopub.execute_input": "2025-07-18T04:54:42.663024Z",
     "iopub.status.busy": "2025-07-18T04:54:42.662693Z",
     "iopub.status.idle": "2025-07-18T04:54:42.690288Z",
     "shell.execute_reply": "2025-07-18T04:54:42.689209Z"
    },
    "papermill": {
     "duration": 0.033588,
     "end_time": "2025-07-18T04:54:42.692056",
     "exception": false,
     "start_time": "2025-07-18T04:54:42.658468",
     "status": "completed"
    },
    "tags": []
   },
   "outputs": [],
   "source": [
    "def label_environment(row):\n",
    "    if 6.5 <= row['pH'] <= 8.5 and row['DissolvedOxygen (mg/L)'] >= 5 and 0.5 <= row['Salinity (ppt)'] <= 30:\n",
    "        return 'Good'\n",
    "    elif (row['pH'] < 6.5 or row['pH'] > 8.5 or row['DissolvedOxygen (mg/L)'] < 3 or row['Salinity (ppt)'] < 0.5):\n",
    "        return 'Poor'\n",
    "    else:\n",
    "        return 'Moderate'\n",
    "\n",
    "df['EnvironmentQuality'] = df.apply(label_environment, axis=1)"
   ]
  },
  {
   "cell_type": "code",
   "execution_count": 6,
   "id": "2cba1ce0",
   "metadata": {
    "execution": {
     "iopub.execute_input": "2025-07-18T04:54:42.700274Z",
     "iopub.status.busy": "2025-07-18T04:54:42.699933Z",
     "iopub.status.idle": "2025-07-18T04:54:42.706374Z",
     "shell.execute_reply": "2025-07-18T04:54:42.705513Z"
    },
    "papermill": {
     "duration": 0.012461,
     "end_time": "2025-07-18T04:54:42.708071",
     "exception": false,
     "start_time": "2025-07-18T04:54:42.695610",
     "status": "completed"
    },
    "tags": []
   },
   "outputs": [],
   "source": [
    "features = ['Salinity (ppt)', 'DissolvedOxygen (mg/L)', 'pH', 'SecchiDepth (m)',\n",
    "            'WaterDepth (m)', 'WaterTemp (C)', 'AirTemp (C)']\n",
    "\n",
    "X = df[features]\n",
    "y = df['EnvironmentQuality']"
   ]
  },
  {
   "cell_type": "code",
   "execution_count": 7,
   "id": "babba8ad",
   "metadata": {
    "execution": {
     "iopub.execute_input": "2025-07-18T04:54:42.715932Z",
     "iopub.status.busy": "2025-07-18T04:54:42.715629Z",
     "iopub.status.idle": "2025-07-18T04:54:42.722988Z",
     "shell.execute_reply": "2025-07-18T04:54:42.722052Z"
    },
    "papermill": {
     "duration": 0.013522,
     "end_time": "2025-07-18T04:54:42.724983",
     "exception": false,
     "start_time": "2025-07-18T04:54:42.711461",
     "status": "completed"
    },
    "tags": []
   },
   "outputs": [],
   "source": [
    "X_train, X_test, y_train, y_test = train_test_split(X, y, test_size=0.2, random_state=42)"
   ]
  },
  {
   "cell_type": "code",
   "execution_count": 8,
   "id": "aa2134e1",
   "metadata": {
    "execution": {
     "iopub.execute_input": "2025-07-18T04:54:42.733268Z",
     "iopub.status.busy": "2025-07-18T04:54:42.732926Z",
     "iopub.status.idle": "2025-07-18T04:54:42.934382Z",
     "shell.execute_reply": "2025-07-18T04:54:42.933386Z"
    },
    "papermill": {
     "duration": 0.207396,
     "end_time": "2025-07-18T04:54:42.936243",
     "exception": false,
     "start_time": "2025-07-18T04:54:42.728847",
     "status": "completed"
    },
    "tags": []
   },
   "outputs": [
    {
     "data": {
      "text/html": [
       "<style>#sk-container-id-1 {color: black;background-color: white;}#sk-container-id-1 pre{padding: 0;}#sk-container-id-1 div.sk-toggleable {background-color: white;}#sk-container-id-1 label.sk-toggleable__label {cursor: pointer;display: block;width: 100%;margin-bottom: 0;padding: 0.3em;box-sizing: border-box;text-align: center;}#sk-container-id-1 label.sk-toggleable__label-arrow:before {content: \"▸\";float: left;margin-right: 0.25em;color: #696969;}#sk-container-id-1 label.sk-toggleable__label-arrow:hover:before {color: black;}#sk-container-id-1 div.sk-estimator:hover label.sk-toggleable__label-arrow:before {color: black;}#sk-container-id-1 div.sk-toggleable__content {max-height: 0;max-width: 0;overflow: hidden;text-align: left;background-color: #f0f8ff;}#sk-container-id-1 div.sk-toggleable__content pre {margin: 0.2em;color: black;border-radius: 0.25em;background-color: #f0f8ff;}#sk-container-id-1 input.sk-toggleable__control:checked~div.sk-toggleable__content {max-height: 200px;max-width: 100%;overflow: auto;}#sk-container-id-1 input.sk-toggleable__control:checked~label.sk-toggleable__label-arrow:before {content: \"▾\";}#sk-container-id-1 div.sk-estimator input.sk-toggleable__control:checked~label.sk-toggleable__label {background-color: #d4ebff;}#sk-container-id-1 div.sk-label input.sk-toggleable__control:checked~label.sk-toggleable__label {background-color: #d4ebff;}#sk-container-id-1 input.sk-hidden--visually {border: 0;clip: rect(1px 1px 1px 1px);clip: rect(1px, 1px, 1px, 1px);height: 1px;margin: -1px;overflow: hidden;padding: 0;position: absolute;width: 1px;}#sk-container-id-1 div.sk-estimator {font-family: monospace;background-color: #f0f8ff;border: 1px dotted black;border-radius: 0.25em;box-sizing: border-box;margin-bottom: 0.5em;}#sk-container-id-1 div.sk-estimator:hover {background-color: #d4ebff;}#sk-container-id-1 div.sk-parallel-item::after {content: \"\";width: 100%;border-bottom: 1px solid gray;flex-grow: 1;}#sk-container-id-1 div.sk-label:hover label.sk-toggleable__label {background-color: #d4ebff;}#sk-container-id-1 div.sk-serial::before {content: \"\";position: absolute;border-left: 1px solid gray;box-sizing: border-box;top: 0;bottom: 0;left: 50%;z-index: 0;}#sk-container-id-1 div.sk-serial {display: flex;flex-direction: column;align-items: center;background-color: white;padding-right: 0.2em;padding-left: 0.2em;position: relative;}#sk-container-id-1 div.sk-item {position: relative;z-index: 1;}#sk-container-id-1 div.sk-parallel {display: flex;align-items: stretch;justify-content: center;background-color: white;position: relative;}#sk-container-id-1 div.sk-item::before, #sk-container-id-1 div.sk-parallel-item::before {content: \"\";position: absolute;border-left: 1px solid gray;box-sizing: border-box;top: 0;bottom: 0;left: 50%;z-index: -1;}#sk-container-id-1 div.sk-parallel-item {display: flex;flex-direction: column;z-index: 1;position: relative;background-color: white;}#sk-container-id-1 div.sk-parallel-item:first-child::after {align-self: flex-end;width: 50%;}#sk-container-id-1 div.sk-parallel-item:last-child::after {align-self: flex-start;width: 50%;}#sk-container-id-1 div.sk-parallel-item:only-child::after {width: 0;}#sk-container-id-1 div.sk-dashed-wrapped {border: 1px dashed gray;margin: 0 0.4em 0.5em 0.4em;box-sizing: border-box;padding-bottom: 0.4em;background-color: white;}#sk-container-id-1 div.sk-label label {font-family: monospace;font-weight: bold;display: inline-block;line-height: 1.2em;}#sk-container-id-1 div.sk-label-container {text-align: center;}#sk-container-id-1 div.sk-container {/* jupyter's `normalize.less` sets `[hidden] { display: none; }` but bootstrap.min.css set `[hidden] { display: none !important; }` so we also need the `!important` here to be able to override the default hidden behavior on the sphinx rendered scikit-learn.org. See: https://github.com/scikit-learn/scikit-learn/issues/21755 */display: inline-block !important;position: relative;}#sk-container-id-1 div.sk-text-repr-fallback {display: none;}</style><div id=\"sk-container-id-1\" class=\"sk-top-container\"><div class=\"sk-text-repr-fallback\"><pre>RandomForestClassifier(random_state=42)</pre><b>In a Jupyter environment, please rerun this cell to show the HTML representation or trust the notebook. <br />On GitHub, the HTML representation is unable to render, please try loading this page with nbviewer.org.</b></div><div class=\"sk-container\" hidden><div class=\"sk-item\"><div class=\"sk-estimator sk-toggleable\"><input class=\"sk-toggleable__control sk-hidden--visually\" id=\"sk-estimator-id-1\" type=\"checkbox\" checked><label for=\"sk-estimator-id-1\" class=\"sk-toggleable__label sk-toggleable__label-arrow\">RandomForestClassifier</label><div class=\"sk-toggleable__content\"><pre>RandomForestClassifier(random_state=42)</pre></div></div></div></div></div>"
      ],
      "text/plain": [
       "RandomForestClassifier(random_state=42)"
      ]
     },
     "execution_count": 8,
     "metadata": {},
     "output_type": "execute_result"
    }
   ],
   "source": [
    "model = RandomForestClassifier(n_estimators=100, random_state=42)\n",
    "model.fit(X_train, y_train)"
   ]
  },
  {
   "cell_type": "code",
   "execution_count": 9,
   "id": "c4117183",
   "metadata": {
    "execution": {
     "iopub.execute_input": "2025-07-18T04:54:42.944434Z",
     "iopub.status.busy": "2025-07-18T04:54:42.944100Z",
     "iopub.status.idle": "2025-07-18T04:54:42.974388Z",
     "shell.execute_reply": "2025-07-18T04:54:42.973407Z"
    },
    "papermill": {
     "duration": 0.036551,
     "end_time": "2025-07-18T04:54:42.976309",
     "exception": false,
     "start_time": "2025-07-18T04:54:42.939758",
     "status": "completed"
    },
    "tags": []
   },
   "outputs": [
    {
     "name": "stdout",
     "output_type": "stream",
     "text": [
      "Accuracy: 97.73%\n",
      " Classification               precision    recall  f1-score   support\n",
      "\n",
      "        Good       0.99      1.00      0.99        83\n",
      "    Moderate       0.69      1.00      0.81        11\n",
      "        Poor       1.00      0.96      0.98       170\n",
      "\n",
      "    accuracy                           0.98       264\n",
      "   macro avg       0.89      0.99      0.93       264\n",
      "weighted avg       0.98      0.98      0.98       264\n",
      "\n"
     ]
    }
   ],
   "source": [
    "y_pred = model.predict(X_test)\n",
    "print(f\"Accuracy: {accuracy_score(y_test, y_pred) * 100:.2f}%\")\n",
    "print(\" Classification\", classification_report(y_test, y_pred))"
   ]
  },
  {
   "cell_type": "code",
   "execution_count": 10,
   "id": "b1489a77",
   "metadata": {
    "execution": {
     "iopub.execute_input": "2025-07-18T04:54:42.984709Z",
     "iopub.status.busy": "2025-07-18T04:54:42.984350Z",
     "iopub.status.idle": "2025-07-18T04:54:42.994846Z",
     "shell.execute_reply": "2025-07-18T04:54:42.994066Z"
    },
    "papermill": {
     "duration": 0.01659,
     "end_time": "2025-07-18T04:54:42.996554",
     "exception": false,
     "start_time": "2025-07-18T04:54:42.979964",
     "status": "completed"
    },
    "tags": []
   },
   "outputs": [],
   "source": [
    "with open('environment_quality_model.pkl', 'wb') as f:\n",
    "    pickle.dump(model, f)"
   ]
  },
  {
   "cell_type": "code",
   "execution_count": 11,
   "id": "b978852d",
   "metadata": {
    "execution": {
     "iopub.execute_input": "2025-07-18T04:54:43.005154Z",
     "iopub.status.busy": "2025-07-18T04:54:43.004583Z",
     "iopub.status.idle": "2025-07-18T04:54:43.024413Z",
     "shell.execute_reply": "2025-07-18T04:54:43.023224Z"
    },
    "papermill": {
     "duration": 0.025791,
     "end_time": "2025-07-18T04:54:43.025931",
     "exception": false,
     "start_time": "2025-07-18T04:54:43.000140",
     "status": "completed"
    },
    "tags": []
   },
   "outputs": [
    {
     "name": "stdout",
     "output_type": "stream",
     "text": [
      "🐟 Environment Status: Good\n"
     ]
    }
   ],
   "source": [
    "def predict_environment_quality(new_data):\n",
    "    \"\"\"\n",
    "    Predicts environment quality from new data\n",
    "    new_data should be a dict with the required 7 features\n",
    "    \"\"\"\n",
    "    df_new = pd.DataFrame([new_data])\n",
    "    with open('environment_quality_model.pkl', 'rb') as f:\n",
    "        loaded_model = pickle.load(f)\n",
    "    prediction = loaded_model.predict(df_new)[0]\n",
    "    return prediction\n",
    "\n",
    "\n",
    "\n",
    "sample_input = {\n",
    "    'Salinity (ppt)': 5.0,\n",
    "    'DissolvedOxygen (mg/L)': 6.2,\n",
    "    'pH': 7.2,\n",
    "    'SecchiDepth (m)': 1.5,\n",
    "    'WaterDepth (m)': 3.0,\n",
    "    'WaterTemp (C)': 24.0,\n",
    "    'AirTemp (C)': 25.5\n",
    "}\n",
    "\n",
    "print(\"🐟 Environment Status:\", predict_environment_quality(sample_input))"
   ]
  }
 ],
 "metadata": {
  "kaggle": {
   "accelerator": "none",
   "dataSources": [
    {
     "datasetId": 3262886,
     "sourceId": 5695672,
     "sourceType": "datasetVersion"
    },
    {
     "datasetId": 4898629,
     "sourceId": 8254852,
     "sourceType": "datasetVersion"
    }
   ],
   "dockerImageVersionId": 31089,
   "isGpuEnabled": false,
   "isInternetEnabled": false,
   "language": "python",
   "sourceType": "notebook"
  },
  "kernelspec": {
   "display_name": "Python 3",
   "language": "python",
   "name": "python3"
  },
  "language_info": {
   "codemirror_mode": {
    "name": "ipython",
    "version": 3
   },
   "file_extension": ".py",
   "mimetype": "text/x-python",
   "name": "python",
   "nbconvert_exporter": "python",
   "pygments_lexer": "ipython3",
   "version": "3.11.13"
  },
  "papermill": {
   "default_parameters": {},
   "duration": 10.66702,
   "end_time": "2025-07-18T04:54:43.749083",
   "environment_variables": {},
   "exception": null,
   "input_path": "__notebook__.ipynb",
   "output_path": "__notebook__.ipynb",
   "parameters": {},
   "start_time": "2025-07-18T04:54:33.082063",
   "version": "2.6.0"
  }
 },
 "nbformat": 4,
 "nbformat_minor": 5
}
